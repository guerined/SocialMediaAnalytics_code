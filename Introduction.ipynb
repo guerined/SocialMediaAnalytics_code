{
 "cells": [
  {
   "cell_type": "markdown",
   "metadata": {},
   "source": [
    "Social media in the last decade has taken the world by storm. Billions of interactions take place around the world among the different users of Facebook, Twitter, YouTube, online forums, Pinterest, Github, and others. All these interactions, either captured through the data provided by the APIs of these platforms or through custom crawlers, have become a hotbed of information and insights for organisations around the world."
   ]
  },
  {
   "cell_type": "markdown",
   "metadata": {},
   "source": [
    "# A Quick History of Social Netwroks\n",
    "\n",
    "The earliest social networks existed as fas back as 1995; such as Yahoo (Geocities), theglobe.com, and tripod.com. These platforms were mainly to facilitate interaction among people through chat rooms. It was only at the end of the 90s that user profiles became the in thing in social networking platforms, allowing information about people to be discoverable, and therefore, providing a choice to make friends or not. \n",
    "MySpace, LinkedIn, and Orkut were thereafter created, and the social networks were on the verge of becoming mainstream. However, the biggest impact happened with the creation of Facebook in 2004; a total game changer for people's lives, business, and the world. The sophistication and the ease of using the platform made it into mainstream media for individuals and companies to advertise and sell their ideas and products."
   ]
  },
  {
   "cell_type": "markdown",
   "metadata": {},
   "source": [
    "#Introducing social graph\n",
    "\n",
    "A social graph is created through this widespread interaction and exchange of information on social media. A social graph is a massive network that illustrates the relations between individuals and information on the internet.\n",
    " - User graph: This is a network that shows the relationships between users or individuals connected to each other.\n",
    " - Content graph: As there are billions of content being uploaded on social media, there is a relationship existing between different types of content (text, images, videos, or multimedia). These relations could be based on semantic sense around those content, or in-bond or out-bond links between them, like that of the Google's page rank.\n",
    " - Interest graph: The interest graph takes the original graphs as step further, where individuals on the social media or internet are not related based on their mere links, like being added as a friend or followed on Twitter, but on their mutual interests. This has a huge advantage over standard social graph, in the sense that it leads to finding communities of people with similar interests. Even if these people have no interaction or know each other personally, there is an inherent link based on their interests and passions. \n"
   ]
  },
  {
   "cell_type": "markdown",
   "metadata": {},
   "source": [
    "# API in a Nutshell\n",
    "An API is the medium that allows the exchange of data points between a service and the programmer or user. API concepts have been widely used in the software industry when we needed different software to exchange data with each other. Mobile and internet applications have been using web services and APIs to share their data with third-party applications developers. The popularity of data science has made APIs emerge also as a source for mining and knowledge creation. The nature of all social media is different, so are their APIs. The steps involved in making a connection may not differ greatly, but the data points we capture do."
   ]
  },
  {
   "cell_type": "markdown",
   "metadata": {},
   "source": [
    "## RESTful API\n",
    "This is the most common type of API that most social media provides. The information from a REST API is static and is from historical data. The back history of the data can vary from platform to platform. Facebook calls its REST API service Graph API.\n",
    "REST stands for Representational State Transfer and it relies on the HTTP protocol for data transfer between machines. It has been created to simplify the transfer of data between machines unlike previous web services such s CORBA, RPC and SOAP. Since the architecture of REST uses the HTTP protocol, it would be fair to assume that the WWW itself is based on RESTful design. \n",
    "- Get: Procedure to receive data from a distant machine\n",
    "- Post: Procedure to write data to a distant machine\n",
    "\n",
    "## Stream API\n",
    "You need a Stream API when the requirement is to collect data in real-time, instead of back-dated from the platform."
   ]
  },
  {
   "cell_type": "code",
   "execution_count": null,
   "metadata": {},
   "outputs": [],
   "source": []
  }
 ],
 "metadata": {
  "kernelspec": {
   "display_name": "Python 3",
   "language": "python",
   "name": "python3"
  },
  "language_info": {
   "codemirror_mode": {
    "name": "ipython",
    "version": 3
   },
   "file_extension": ".py",
   "mimetype": "text/x-python",
   "name": "python",
   "nbconvert_exporter": "python",
   "pygments_lexer": "ipython3",
   "version": "3.6.5"
  }
 },
 "nbformat": 4,
 "nbformat_minor": 2
}
